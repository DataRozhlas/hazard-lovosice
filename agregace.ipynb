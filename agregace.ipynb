{
 "cells": [
  {
   "cell_type": "code",
   "execution_count": 1,
   "metadata": {
    "collapsed": true
   },
   "outputs": [],
   "source": [
    "import pandas as pd\n",
    "import numpy as np"
   ]
  },
  {
   "cell_type": "code",
   "execution_count": 2,
   "metadata": {
    "collapsed": true
   },
   "outputs": [],
   "source": [
    "data = pd.read_excel('data/maty_srpen_15.xlsx')"
   ]
  },
  {
   "cell_type": "code",
   "execution_count": 4,
   "metadata": {
    "collapsed": true
   },
   "outputs": [],
   "source": [
    "def joiner(ulice, cp, obec, psc):\n",
    "    return ulice + ' ' + str(cp) + ', ' + obec + ' ' + str(psc)"
   ]
  },
  {
   "cell_type": "code",
   "execution_count": 7,
   "metadata": {
    "collapsed": false
   },
   "outputs": [],
   "source": [
    "data['addr'] = data.apply(lambda row: joiner(row['Ulice'], row['Č.p.'], row['Obec'], row['PSČ']), axis=1)"
   ]
  },
  {
   "cell_type": "code",
   "execution_count": 22,
   "metadata": {
    "collapsed": false
   },
   "outputs": [],
   "source": [
    "out = {}\n",
    "\n",
    "for row in data.iterrows():\n",
    "    adresa = row[1]['addr']\n",
    "    provozovatel = row[1]['Provozovatel']\n",
    "    if adresa not in out:\n",
    "        out[adresa] = {'pocet': 0, 'provoz': ''}\n",
    "    out[adresa]['pocet'] += 1\n",
    "    \n",
    "    if provozovatel not in out[adresa]['provoz']:\n",
    "        out[adresa]['provoz'] = out[adresa]['provoz'] + ', ' + provozovatel\n",
    "    \n",
    "    out[adresa]['provoz'] = out[adresa]['provoz'].lstrip(', ')"
   ]
  },
  {
   "cell_type": "code",
   "execution_count": 23,
   "metadata": {
    "collapsed": false
   },
   "outputs": [],
   "source": [
    "outfrm = pd.DataFrame.from_dict(out, orient='index').reset_index()"
   ]
  },
  {
   "cell_type": "code",
   "execution_count": 25,
   "metadata": {
    "collapsed": false
   },
   "outputs": [],
   "source": [
    "outfrm.to_csv('data/hazard_lovosice.csv', encoding='utf-8', index=False)"
   ]
  }
 ],
 "metadata": {
  "kernelspec": {
   "display_name": "Python 3",
   "language": "python",
   "name": "python3"
  },
  "language_info": {
   "codemirror_mode": {
    "name": "ipython",
    "version": 3
   },
   "file_extension": ".py",
   "mimetype": "text/x-python",
   "name": "python",
   "nbconvert_exporter": "python",
   "pygments_lexer": "ipython3",
   "version": "3.4.3"
  }
 },
 "nbformat": 4,
 "nbformat_minor": 0
}
